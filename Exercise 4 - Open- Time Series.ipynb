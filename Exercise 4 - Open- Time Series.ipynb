{
 "cells": [
  {
   "cell_type": "markdown",
   "metadata": {},
   "source": [
    "# Time Series Forecasting"
   ]
  },
  {
   "cell_type": "code",
   "execution_count": 1,
   "metadata": {},
   "outputs": [],
   "source": [
    "import pandas as pd\n",
    "import numpy as np\n",
    "from matplotlib import pyplot as plt\n",
    "import seaborn as sns"
   ]
  },
  {
   "cell_type": "code",
   "execution_count": 2,
   "metadata": {},
   "outputs": [],
   "source": [
    "# Read our data\n",
    "data = pd.read_excel(\"C:/Users/GetInnotized/Downloads/Dataset 1.xlsx\", parse_dates=['original_sale_date'])"
   ]
  },
  {
   "cell_type": "code",
   "execution_count": 3,
   "metadata": {},
   "outputs": [
    {
     "data": {
      "text/html": [
       "<div>\n",
       "<style scoped>\n",
       "    .dataframe tbody tr th:only-of-type {\n",
       "        vertical-align: middle;\n",
       "    }\n",
       "\n",
       "    .dataframe tbody tr th {\n",
       "        vertical-align: top;\n",
       "    }\n",
       "\n",
       "    .dataframe thead th {\n",
       "        text-align: right;\n",
       "    }\n",
       "</style>\n",
       "<table border=\"1\" class=\"dataframe\">\n",
       "  <thead>\n",
       "    <tr style=\"text-align: right;\">\n",
       "      <th></th>\n",
       "      <th>case_id</th>\n",
       "      <th>default_phone</th>\n",
       "      <th>SN</th>\n",
       "      <th>Product</th>\n",
       "      <th>original_sale_date</th>\n",
       "      <th>valid</th>\n",
       "    </tr>\n",
       "  </thead>\n",
       "  <tbody>\n",
       "    <tr>\n",
       "      <th>0</th>\n",
       "      <td>Case 4783580343042048</td>\n",
       "      <td>2.547166e+11</td>\n",
       "      <td>310095430.0</td>\n",
       "      <td>B</td>\n",
       "      <td>2021-02-08</td>\n",
       "      <td>Invalid</td>\n",
       "    </tr>\n",
       "    <tr>\n",
       "      <th>1</th>\n",
       "      <td>Case 6087548486680576</td>\n",
       "      <td>2.547699e+11</td>\n",
       "      <td>NaN</td>\n",
       "      <td>NaN</td>\n",
       "      <td>2021-01-23</td>\n",
       "      <td>Invalid</td>\n",
       "    </tr>\n",
       "    <tr>\n",
       "      <th>2</th>\n",
       "      <td>Case 5087971198500864</td>\n",
       "      <td>2.541151e+11</td>\n",
       "      <td>309842945.0</td>\n",
       "      <td>B</td>\n",
       "      <td>2021-01-03</td>\n",
       "      <td>Invalid</td>\n",
       "    </tr>\n",
       "    <tr>\n",
       "      <th>3</th>\n",
       "      <td>Case 5898132420952064</td>\n",
       "      <td>2.547251e+11</td>\n",
       "      <td>NaN</td>\n",
       "      <td>NaN</td>\n",
       "      <td>2020-10-16</td>\n",
       "      <td>Invalid</td>\n",
       "    </tr>\n",
       "    <tr>\n",
       "      <th>4</th>\n",
       "      <td>Case 5662137616302080</td>\n",
       "      <td>2.547135e+11</td>\n",
       "      <td>306279485.0</td>\n",
       "      <td>B</td>\n",
       "      <td>2020-09-21</td>\n",
       "      <td>Invalid</td>\n",
       "    </tr>\n",
       "  </tbody>\n",
       "</table>\n",
       "</div>"
      ],
      "text/plain": [
       "                 case_id  default_phone           SN Product  \\\n",
       "0  Case 4783580343042048   2.547166e+11  310095430.0       B   \n",
       "1  Case 6087548486680576   2.547699e+11          NaN     NaN   \n",
       "2  Case 5087971198500864   2.541151e+11  309842945.0       B   \n",
       "3  Case 5898132420952064   2.547251e+11          NaN     NaN   \n",
       "4  Case 5662137616302080   2.547135e+11  306279485.0       B   \n",
       "\n",
       "  original_sale_date    valid  \n",
       "0         2021-02-08  Invalid  \n",
       "1         2021-01-23  Invalid  \n",
       "2         2021-01-03  Invalid  \n",
       "3         2020-10-16  Invalid  \n",
       "4         2020-09-21  Invalid  "
      ]
     },
     "execution_count": 3,
     "metadata": {},
     "output_type": "execute_result"
    }
   ],
   "source": [
    "# Display first five rows\n",
    "data.head()"
   ]
  },
  {
   "cell_type": "code",
   "execution_count": 4,
   "metadata": {},
   "outputs": [
    {
     "name": "stdout",
     "output_type": "stream",
     "text": [
      "<class 'pandas.core.frame.DataFrame'>\n",
      "RangeIndex: 80906 entries, 0 to 80905\n",
      "Data columns (total 6 columns):\n",
      " #   Column              Non-Null Count  Dtype         \n",
      "---  ------              --------------  -----         \n",
      " 0   case_id             80906 non-null  object        \n",
      " 1   default_phone       65441 non-null  float64       \n",
      " 2   SN                  74048 non-null  float64       \n",
      " 3   Product             58538 non-null  object        \n",
      " 4   original_sale_date  80906 non-null  datetime64[ns]\n",
      " 5   valid               80906 non-null  object        \n",
      "dtypes: datetime64[ns](1), float64(2), object(3)\n",
      "memory usage: 3.7+ MB\n"
     ]
    }
   ],
   "source": [
    "# Get information on our columns\n",
    "data.info()"
   ]
  },
  {
   "cell_type": "code",
   "execution_count": 5,
   "metadata": {},
   "outputs": [
    {
     "data": {
      "text/plain": [
       "case_id                       object\n",
       "default_phone                float64\n",
       "SN                           float64\n",
       "Product                       object\n",
       "original_sale_date    datetime64[ns]\n",
       "valid                         object\n",
       "dtype: object"
      ]
     },
     "execution_count": 5,
     "metadata": {},
     "output_type": "execute_result"
    }
   ],
   "source": [
    "# Check our data types\n",
    "data.dtypes"
   ]
  },
  {
   "cell_type": "code",
   "execution_count": 6,
   "metadata": {},
   "outputs": [],
   "source": [
    "# Count sales in each day\n",
    "for i in data.original_sale_date:\n",
    "    data[\"Count\"] = 1   "
   ]
  },
  {
   "cell_type": "code",
   "execution_count": 7,
   "metadata": {},
   "outputs": [
    {
     "data": {
      "text/html": [
       "<div>\n",
       "<style scoped>\n",
       "    .dataframe tbody tr th:only-of-type {\n",
       "        vertical-align: middle;\n",
       "    }\n",
       "\n",
       "    .dataframe tbody tr th {\n",
       "        vertical-align: top;\n",
       "    }\n",
       "\n",
       "    .dataframe thead th {\n",
       "        text-align: right;\n",
       "    }\n",
       "</style>\n",
       "<table border=\"1\" class=\"dataframe\">\n",
       "  <thead>\n",
       "    <tr style=\"text-align: right;\">\n",
       "      <th></th>\n",
       "      <th>case_id</th>\n",
       "      <th>default_phone</th>\n",
       "      <th>SN</th>\n",
       "      <th>Product</th>\n",
       "      <th>original_sale_date</th>\n",
       "      <th>valid</th>\n",
       "      <th>Count</th>\n",
       "    </tr>\n",
       "  </thead>\n",
       "  <tbody>\n",
       "    <tr>\n",
       "      <th>0</th>\n",
       "      <td>Case 4783580343042048</td>\n",
       "      <td>2.547166e+11</td>\n",
       "      <td>310095430.0</td>\n",
       "      <td>B</td>\n",
       "      <td>2021-02-08</td>\n",
       "      <td>Invalid</td>\n",
       "      <td>1</td>\n",
       "    </tr>\n",
       "    <tr>\n",
       "      <th>1</th>\n",
       "      <td>Case 6087548486680576</td>\n",
       "      <td>2.547699e+11</td>\n",
       "      <td>NaN</td>\n",
       "      <td>NaN</td>\n",
       "      <td>2021-01-23</td>\n",
       "      <td>Invalid</td>\n",
       "      <td>1</td>\n",
       "    </tr>\n",
       "    <tr>\n",
       "      <th>2</th>\n",
       "      <td>Case 5087971198500864</td>\n",
       "      <td>2.541151e+11</td>\n",
       "      <td>309842945.0</td>\n",
       "      <td>B</td>\n",
       "      <td>2021-01-03</td>\n",
       "      <td>Invalid</td>\n",
       "      <td>1</td>\n",
       "    </tr>\n",
       "    <tr>\n",
       "      <th>3</th>\n",
       "      <td>Case 5898132420952064</td>\n",
       "      <td>2.547251e+11</td>\n",
       "      <td>NaN</td>\n",
       "      <td>NaN</td>\n",
       "      <td>2020-10-16</td>\n",
       "      <td>Invalid</td>\n",
       "      <td>1</td>\n",
       "    </tr>\n",
       "    <tr>\n",
       "      <th>4</th>\n",
       "      <td>Case 5662137616302080</td>\n",
       "      <td>2.547135e+11</td>\n",
       "      <td>306279485.0</td>\n",
       "      <td>B</td>\n",
       "      <td>2020-09-21</td>\n",
       "      <td>Invalid</td>\n",
       "      <td>1</td>\n",
       "    </tr>\n",
       "  </tbody>\n",
       "</table>\n",
       "</div>"
      ],
      "text/plain": [
       "                 case_id  default_phone           SN Product  \\\n",
       "0  Case 4783580343042048   2.547166e+11  310095430.0       B   \n",
       "1  Case 6087548486680576   2.547699e+11          NaN     NaN   \n",
       "2  Case 5087971198500864   2.541151e+11  309842945.0       B   \n",
       "3  Case 5898132420952064   2.547251e+11          NaN     NaN   \n",
       "4  Case 5662137616302080   2.547135e+11  306279485.0       B   \n",
       "\n",
       "  original_sale_date    valid  Count  \n",
       "0         2021-02-08  Invalid      1  \n",
       "1         2021-01-23  Invalid      1  \n",
       "2         2021-01-03  Invalid      1  \n",
       "3         2020-10-16  Invalid      1  \n",
       "4         2020-09-21  Invalid      1  "
      ]
     },
     "execution_count": 7,
     "metadata": {},
     "output_type": "execute_result"
    }
   ],
   "source": [
    "# Check first five rows of the data\n",
    "data.head()"
   ]
  },
  {
   "cell_type": "code",
   "execution_count": 8,
   "metadata": {},
   "outputs": [],
   "source": [
    "# Subset the data to two columns: original_sale_date & Count\n",
    "data = data[[\"original_sale_date\", \"Count\"]]"
   ]
  },
  {
   "cell_type": "code",
   "execution_count": 9,
   "metadata": {},
   "outputs": [],
   "source": [
    "# Set date column as index\n",
    "data.set_index(\"original_sale_date\", inplace=True)"
   ]
  },
  {
   "cell_type": "code",
   "execution_count": 14,
   "metadata": {},
   "outputs": [
    {
     "data": {
      "text/plain": [
       "DatetimeIndex(['2021-02-08', '2021-01-23', '2021-01-03', '2020-10-16',\n",
       "               '2020-09-21', '2020-09-07', '2020-08-11', '2020-05-09',\n",
       "               '2021-01-23', '2020-10-01',\n",
       "               ...\n",
       "               '2020-02-21', '2020-11-02', '2020-08-01', '2020-09-07',\n",
       "               '2020-08-25', '2020-08-25', '2020-07-09', '2020-05-25',\n",
       "               '2020-05-25', '2020-05-25'],\n",
       "              dtype='datetime64[ns]', name='original_sale_date', length=80906, freq=None)"
      ]
     },
     "execution_count": 14,
     "metadata": {},
     "output_type": "execute_result"
    }
   ],
   "source": [
    "data.index"
   ]
  },
  {
   "cell_type": "code",
   "execution_count": 33,
   "metadata": {
    "scrolled": false
   },
   "outputs": [
    {
     "data": {
      "text/html": [
       "<div>\n",
       "<style scoped>\n",
       "    .dataframe tbody tr th:only-of-type {\n",
       "        vertical-align: middle;\n",
       "    }\n",
       "\n",
       "    .dataframe tbody tr th {\n",
       "        vertical-align: top;\n",
       "    }\n",
       "\n",
       "    .dataframe thead th {\n",
       "        text-align: right;\n",
       "    }\n",
       "</style>\n",
       "<table border=\"1\" class=\"dataframe\">\n",
       "  <thead>\n",
       "    <tr style=\"text-align: right;\">\n",
       "      <th></th>\n",
       "      <th>Count</th>\n",
       "    </tr>\n",
       "    <tr>\n",
       "      <th>original_sale_date</th>\n",
       "      <th></th>\n",
       "    </tr>\n",
       "  </thead>\n",
       "  <tbody>\n",
       "    <tr>\n",
       "      <th>2019-11-30</th>\n",
       "      <td>1579</td>\n",
       "    </tr>\n",
       "    <tr>\n",
       "      <th>2019-12-31</th>\n",
       "      <td>3457</td>\n",
       "    </tr>\n",
       "    <tr>\n",
       "      <th>2020-01-31</th>\n",
       "      <td>2398</td>\n",
       "    </tr>\n",
       "    <tr>\n",
       "      <th>2020-02-29</th>\n",
       "      <td>2707</td>\n",
       "    </tr>\n",
       "    <tr>\n",
       "      <th>2020-03-31</th>\n",
       "      <td>3246</td>\n",
       "    </tr>\n",
       "    <tr>\n",
       "      <th>2020-04-30</th>\n",
       "      <td>3444</td>\n",
       "    </tr>\n",
       "    <tr>\n",
       "      <th>2020-05-31</th>\n",
       "      <td>6394</td>\n",
       "    </tr>\n",
       "    <tr>\n",
       "      <th>2020-06-30</th>\n",
       "      <td>6751</td>\n",
       "    </tr>\n",
       "    <tr>\n",
       "      <th>2020-07-31</th>\n",
       "      <td>6505</td>\n",
       "    </tr>\n",
       "    <tr>\n",
       "      <th>2020-08-31</th>\n",
       "      <td>5972</td>\n",
       "    </tr>\n",
       "    <tr>\n",
       "      <th>2020-09-30</th>\n",
       "      <td>6090</td>\n",
       "    </tr>\n",
       "    <tr>\n",
       "      <th>2020-10-31</th>\n",
       "      <td>4779</td>\n",
       "    </tr>\n",
       "    <tr>\n",
       "      <th>2020-11-30</th>\n",
       "      <td>3970</td>\n",
       "    </tr>\n",
       "    <tr>\n",
       "      <th>2020-12-31</th>\n",
       "      <td>15128</td>\n",
       "    </tr>\n",
       "    <tr>\n",
       "      <th>2021-01-31</th>\n",
       "      <td>4357</td>\n",
       "    </tr>\n",
       "    <tr>\n",
       "      <th>2021-02-28</th>\n",
       "      <td>4129</td>\n",
       "    </tr>\n",
       "  </tbody>\n",
       "</table>\n",
       "</div>"
      ],
      "text/plain": [
       "                    Count\n",
       "original_sale_date       \n",
       "2019-11-30           1579\n",
       "2019-12-31           3457\n",
       "2020-01-31           2398\n",
       "2020-02-29           2707\n",
       "2020-03-31           3246\n",
       "2020-04-30           3444\n",
       "2020-05-31           6394\n",
       "2020-06-30           6751\n",
       "2020-07-31           6505\n",
       "2020-08-31           5972\n",
       "2020-09-30           6090\n",
       "2020-10-31           4779\n",
       "2020-11-30           3970\n",
       "2020-12-31          15128\n",
       "2021-01-31           4357\n",
       "2021-02-28           4129"
      ]
     },
     "execution_count": 33,
     "metadata": {},
     "output_type": "execute_result"
    }
   ],
   "source": [
    "New_data = pd.DataFrame(data.Count.resample('M').sum())\n",
    "New_data"
   ]
  },
  {
   "cell_type": "code",
   "execution_count": 34,
   "metadata": {
    "scrolled": false
   },
   "outputs": [
    {
     "data": {
      "text/plain": [
       "Text(0.5, 1.0, 'Number of Sales over time')"
      ]
     },
     "execution_count": 34,
     "metadata": {},
     "output_type": "execute_result"
    },
    {
     "data": {
      "image/png": "[encoded data removed]",
      "text/plain": [
       "<Figure size 864x576 with 1 Axes>"
      ]
     },
     "metadata": {
      "needs_background": "light"
     },
     "output_type": "display_data"
    }
   ],
   "source": [
    "New_data.plot()\n",
    "plt.rcParams[\"figure.figsize\"] = (12,8)\n",
    "plt.ylabel('Number of Sales')\n",
    "plt.title(\"Number of Sales over time\")"
   ]
  },
  {
   "cell_type": "code",
   "execution_count": 40,
   "metadata": {},
   "outputs": [],
   "source": [
    "# Create time series features based on time series index\n",
    "\n",
    "def get_features(New_data):\n",
    "    New_data = New_data.copy()\n",
    "    New_data[\"year\"] = New_data.index.year\n",
    "    New_data[\"month\"] = New_data.index.month\n",
    "    New_data[\"dayofyear\"] = New_data.index.dayofyear\n",
    "    return New_data"
   ]
  },
  {
   "cell_type": "code",
   "execution_count": 41,
   "metadata": {},
   "outputs": [],
   "source": [
    "# Apply function on the data\n",
    "New_data = get_features(New_data)"
   ]
  },
  {
   "cell_type": "code",
   "execution_count": 42,
   "metadata": {},
   "outputs": [
    {
     "data": {
      "text/html": [
       "<div>\n",
       "<style scoped>\n",
       "    .dataframe tbody tr th:only-of-type {\n",
       "        vertical-align: middle;\n",
       "    }\n",
       "\n",
       "    .dataframe tbody tr th {\n",
       "        vertical-align: top;\n",
       "    }\n",
       "\n",
       "    .dataframe thead th {\n",
       "        text-align: right;\n",
       "    }\n",
       "</style>\n",
       "<table border=\"1\" class=\"dataframe\">\n",
       "  <thead>\n",
       "    <tr style=\"text-align: right;\">\n",
       "      <th></th>\n",
       "      <th>Count</th>\n",
       "      <th>year</th>\n",
       "      <th>month</th>\n",
       "      <th>dayofyear</th>\n",
       "    </tr>\n",
       "    <tr>\n",
       "      <th>original_sale_date</th>\n",
       "      <th></th>\n",
       "      <th></th>\n",
       "      <th></th>\n",
       "      <th></th>\n",
       "    </tr>\n",
       "  </thead>\n",
       "  <tbody>\n",
       "    <tr>\n",
       "      <th>2019-11-30</th>\n",
       "      <td>1579</td>\n",
       "      <td>2019</td>\n",
       "      <td>11</td>\n",
       "      <td>334</td>\n",
       "    </tr>\n",
       "    <tr>\n",
       "      <th>2019-12-31</th>\n",
       "      <td>3457</td>\n",
       "      <td>2019</td>\n",
       "      <td>12</td>\n",
       "      <td>365</td>\n",
       "    </tr>\n",
       "    <tr>\n",
       "      <th>2020-01-31</th>\n",
       "      <td>2398</td>\n",
       "      <td>2020</td>\n",
       "      <td>1</td>\n",
       "      <td>31</td>\n",
       "    </tr>\n",
       "    <tr>\n",
       "      <th>2020-02-29</th>\n",
       "      <td>2707</td>\n",
       "      <td>2020</td>\n",
       "      <td>2</td>\n",
       "      <td>60</td>\n",
       "    </tr>\n",
       "    <tr>\n",
       "      <th>2020-03-31</th>\n",
       "      <td>3246</td>\n",
       "      <td>2020</td>\n",
       "      <td>3</td>\n",
       "      <td>91</td>\n",
       "    </tr>\n",
       "    <tr>\n",
       "      <th>2020-04-30</th>\n",
       "      <td>3444</td>\n",
       "      <td>2020</td>\n",
       "      <td>4</td>\n",
       "      <td>121</td>\n",
       "    </tr>\n",
       "    <tr>\n",
       "      <th>2020-05-31</th>\n",
       "      <td>6394</td>\n",
       "      <td>2020</td>\n",
       "      <td>5</td>\n",
       "      <td>152</td>\n",
       "    </tr>\n",
       "    <tr>\n",
       "      <th>2020-06-30</th>\n",
       "      <td>6751</td>\n",
       "      <td>2020</td>\n",
       "      <td>6</td>\n",
       "      <td>182</td>\n",
       "    </tr>\n",
       "    <tr>\n",
       "      <th>2020-07-31</th>\n",
       "      <td>6505</td>\n",
       "      <td>2020</td>\n",
       "      <td>7</td>\n",
       "      <td>213</td>\n",
       "    </tr>\n",
       "    <tr>\n",
       "      <th>2020-08-31</th>\n",
       "      <td>5972</td>\n",
       "      <td>2020</td>\n",
       "      <td>8</td>\n",
       "      <td>244</td>\n",
       "    </tr>\n",
       "    <tr>\n",
       "      <th>2020-09-30</th>\n",
       "      <td>6090</td>\n",
       "      <td>2020</td>\n",
       "      <td>9</td>\n",
       "      <td>274</td>\n",
       "    </tr>\n",
       "    <tr>\n",
       "      <th>2020-10-31</th>\n",
       "      <td>4779</td>\n",
       "      <td>2020</td>\n",
       "      <td>10</td>\n",
       "      <td>305</td>\n",
       "    </tr>\n",
       "    <tr>\n",
       "      <th>2020-11-30</th>\n",
       "      <td>3970</td>\n",
       "      <td>2020</td>\n",
       "      <td>11</td>\n",
       "      <td>335</td>\n",
       "    </tr>\n",
       "    <tr>\n",
       "      <th>2020-12-31</th>\n",
       "      <td>15128</td>\n",
       "      <td>2020</td>\n",
       "      <td>12</td>\n",
       "      <td>366</td>\n",
       "    </tr>\n",
       "    <tr>\n",
       "      <th>2021-01-31</th>\n",
       "      <td>4357</td>\n",
       "      <td>2021</td>\n",
       "      <td>1</td>\n",
       "      <td>31</td>\n",
       "    </tr>\n",
       "    <tr>\n",
       "      <th>2021-02-28</th>\n",
       "      <td>4129</td>\n",
       "      <td>2021</td>\n",
       "      <td>2</td>\n",
       "      <td>59</td>\n",
       "    </tr>\n",
       "  </tbody>\n",
       "</table>\n",
       "</div>"
      ],
      "text/plain": [
       "                    Count  year  month  dayofyear\n",
       "original_sale_date                               \n",
       "2019-11-30           1579  2019     11        334\n",
       "2019-12-31           3457  2019     12        365\n",
       "2020-01-31           2398  2020      1         31\n",
       "2020-02-29           2707  2020      2         60\n",
       "2020-03-31           3246  2020      3         91\n",
       "2020-04-30           3444  2020      4        121\n",
       "2020-05-31           6394  2020      5        152\n",
       "2020-06-30           6751  2020      6        182\n",
       "2020-07-31           6505  2020      7        213\n",
       "2020-08-31           5972  2020      8        244\n",
       "2020-09-30           6090  2020      9        274\n",
       "2020-10-31           4779  2020     10        305\n",
       "2020-11-30           3970  2020     11        335\n",
       "2020-12-31          15128  2020     12        366\n",
       "2021-01-31           4357  2021      1         31\n",
       "2021-02-28           4129  2021      2         59"
      ]
     },
     "execution_count": 42,
     "metadata": {},
     "output_type": "execute_result"
    }
   ],
   "source": [
    "New_data"
   ]
  },
  {
   "cell_type": "code",
   "execution_count": 47,
   "metadata": {},
   "outputs": [],
   "source": [
    "FEATURES = New_data[[\"year\", \"month\", \"dayofyear\"]]\n",
    "TARGET = New_data[\"Count\"]\n",
    "\n",
    "X_train = FEATURES\n",
    "y_train = TARGET"
   ]
  },
  {
   "cell_type": "markdown",
   "metadata": {},
   "source": [
    "# Create the Model"
   ]
  },
  {
   "cell_type": "code",
   "execution_count": 48,
   "metadata": {},
   "outputs": [],
   "source": [
    "# import training and evaluation metrics\n",
    "import xgboost as xgb\n",
    "from sklearn.metrics import mean_absolute_error as mae"
   ]
  },
  {
   "cell_type": "code",
   "execution_count": 49,
   "metadata": {},
   "outputs": [
    {
     "data": {
      "text/plain": [
       "XGBRegressor(base_score=0.5, booster='gbtree', colsample_bylevel=1,\n",
       "             colsample_bynode=1, colsample_bytree=1, enable_categorical=False,\n",
       "             gamma=0, gpu_id=-1, importance_type=None,\n",
       "             interaction_constraints='', learning_rate=0.300000012,\n",
       "             max_delta_step=0, max_depth=6, min_child_weight=1, missing=nan,\n",
       "             monotone_constraints='()', n_estimators=1000, n_jobs=8,\n",
       "             num_parallel_tree=1, predictor='auto', random_state=0, reg_alpha=0,\n",
       "             reg_lambda=1, scale_pos_weight=1, subsample=1, tree_method='exact',\n",
       "             validate_parameters=1, verbosity=None)"
      ]
     },
     "execution_count": 49,
     "metadata": {},
     "output_type": "execute_result"
    }
   ],
   "source": [
    "reg = xgb.XGBRegressor(n_estimators=1000)\n",
    "reg.fit(X_train, y_train)"
   ]
  },
  {
   "cell_type": "code",
   "execution_count": 56,
   "metadata": {},
   "outputs": [],
   "source": [
    "# Feature Importance\n",
    "feat_imp = pd.DataFrame(data = reg.feature_importances_, \n",
    "                        index = reg.get_booster().get_score(importance_type=\"gain\"), \n",
    "                        columns=[\"importance\"])"
   ]
  },
  {
   "cell_type": "code",
   "execution_count": 63,
   "metadata": {},
   "outputs": [
    {
     "data": {
      "image/png": "[encoded data removed]",
      "text/plain": [
       "<Figure size 864x576 with 1 Axes>"
      ]
     },
     "metadata": {
      "needs_background": "light"
     },
     "output_type": "display_data"
    }
   ],
   "source": [
    "feat_imp.sort_values(\"importance\").plot(kind = \"barh\", title = \"Feature Importance\")\n",
    "plt.show()"
   ]
  },
  {
   "cell_type": "code",
   "execution_count": 51,
   "metadata": {},
   "outputs": [
    {
     "name": "stdout",
     "output_type": "stream",
     "text": [
      "MAE: 0.001373291015625\n"
     ]
    }
   ],
   "source": [
    "print(f'MAE: {mae(y_train, reg.predict(X_train))}')"
   ]
  },
  {
   "cell_type": "code",
   "execution_count": null,
   "metadata": {},
   "outputs": [],
   "source": []
  }
 ],
 "metadata": {
  "kernelspec": {
   "display_name": "Python 3",
   "language": "python",
   "name": "python3"
  },
  "language_info": {
   "codemirror_mode": {
    "name": "ipython",
    "version": 3
   },
   "file_extension": ".py",
   "mimetype": "text/x-python",
   "name": "python",
   "nbconvert_exporter": "python",
   "pygments_lexer": "ipython3",
   "version": "3.8.5"
  }
 },
 "nbformat": 4,
 "nbformat_minor": 4
}
